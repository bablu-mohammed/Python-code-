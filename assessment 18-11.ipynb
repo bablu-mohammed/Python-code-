{
 "cells": [
  {
   "cell_type": "code",
   "execution_count": 1,
   "id": "fae7e02d",
   "metadata": {},
   "outputs": [
    {
     "name": "stdout",
     "output_type": "stream",
     "text": [
      "enter the name:rock\n",
      "enter the name2:scissor\n",
      "the match win by p1\n"
     ]
    }
   ],
   "source": [
    "p1=input(\"enter the name:\")\n",
    "p2=input(\"enter the name2:\")\n",
    "if p1==\"rock\":\n",
    "    if p2==\"rock\":\n",
    "        print(\"the match is draw for both!\")\n",
    "    elif p2==\"paper\":\n",
    "        print(\"the match win by p2\")\n",
    "    elif p2==\"scissor\":\n",
    "        print(\"the match win by p1\")\n",
    "elif p1==\"paper\":\n",
    "    if p2==\"paper\":\n",
    "         print(\"the match is draw for both!\")\n",
    "    elif p2==\"rock\":\n",
    "        print(\"the match win by p1\")\n",
    "    elif p2==\"scissor\":\n",
    "        print(\"the match win by p2\")\n",
    "elif p1==\"scissor\":\n",
    "        if p2==\"scissor\":\n",
    "            print(\"the match is draw for both!\")\n",
    "        elif p2==\"rock\":\n",
    "            print(\"the match win by p2\")\n",
    "        elif p2==\"paper\":\n",
    "            print(\"the match win by p1\")\n",
    "else:\n",
    "    print(\"there is no chance of winning\")"
   ]
  },
  {
   "cell_type": "code",
   "execution_count": null,
   "id": "b4e814fd",
   "metadata": {},
   "outputs": [],
   "source": []
  }
 ],
 "metadata": {
  "kernelspec": {
   "display_name": "Python 3 (ipykernel)",
   "language": "python",
   "name": "python3"
  },
  "language_info": {
   "codemirror_mode": {
    "name": "ipython",
    "version": 3
   },
   "file_extension": ".py",
   "mimetype": "text/x-python",
   "name": "python",
   "nbconvert_exporter": "python",
   "pygments_lexer": "ipython3",
   "version": "3.9.13"
  }
 },
 "nbformat": 4,
 "nbformat_minor": 5
}
